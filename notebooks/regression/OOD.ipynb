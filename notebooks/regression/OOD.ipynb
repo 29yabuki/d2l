{
 "cells": [
  {
   "cell_type": "markdown",
   "id": "33371204",
   "metadata": {},
   "source": [
    "Linear regression, one of the simplest ML models, introduced key components such as the data, the model, the loss function, and the optimization algorithm.\n",
    "\n",
    "Despite its simplicity, training it shares fundamentals many of the same components that other models use. \n",
    "\n",
    "Before implementation, designing reusable APIs is beneficial. Using OOP for deep learning components streamlines implementation and is a must for projects."
   ]
  },
  {
   "cell_type": "markdown",
   "id": "99776907",
   "metadata": {},
   "source": [
    "Inspired by open-source libraries such as PyTorch Lightning, at a high level we wish to have three classes:\n",
    "- `Module` containing models, losses, and optimization methods.\n",
    "- `DataModule` providing data loaders for training and validation.\n",
    "- `Trainer` combines both classes allowing model training on a variety of hardware platforms.\n",
    "\n",
    "Mostly, `Module` and `DataModule` are primarily used. The `Trainer` class is introduced only when touching on GPUs, CPUs, parallel training, and optimization algorithms."
   ]
  },
  {
   "cell_type": "code",
   "execution_count": 2,
   "id": "30a04b6d",
   "metadata": {},
   "outputs": [],
   "source": [
    "import time\n",
    "import numpy as np\n",
    "import torch\n",
    "from torch import nn\n",
    "from d2l import torch as d2l"
   ]
  },
  {
   "cell_type": "markdown",
   "id": "f33173c4",
   "metadata": {},
   "source": [
    "## Utilities"
   ]
  },
  {
   "cell_type": "code",
   "execution_count": null,
   "id": "c61c33e3",
   "metadata": {},
   "outputs": [],
   "source": []
  }
 ],
 "metadata": {
  "kernelspec": {
   "display_name": "D2L",
   "language": "python",
   "name": "d2l"
  },
  "language_info": {
   "codemirror_mode": {
    "name": "ipython",
    "version": 3
   },
   "file_extension": ".py",
   "mimetype": "text/x-python",
   "name": "python",
   "nbconvert_exporter": "python",
   "pygments_lexer": "ipython3",
   "version": "3.10.11"
  }
 },
 "nbformat": 4,
 "nbformat_minor": 5
}
