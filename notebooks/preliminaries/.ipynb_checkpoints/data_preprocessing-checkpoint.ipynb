{
 "cells": [
  {
   "cell_type": "code",
   "execution_count": 1,
   "id": "86214173",
   "metadata": {},
   "outputs": [],
   "source": [
    "import pandas as pd\n",
    "import torch"
   ]
  },
  {
   "cell_type": "code",
   "execution_count": 2,
   "id": "ce3d113a",
   "metadata": {},
   "outputs": [],
   "source": [
    "data = pd.read_csv(r'../../datasets/house_tiny.csv')"
   ]
  },
  {
   "cell_type": "code",
   "execution_count": 3,
   "id": "3e68f91c",
   "metadata": {},
   "outputs": [
    {
     "data": {
      "text/html": [
       "<div>\n",
       "<style scoped>\n",
       "    .dataframe tbody tr th:only-of-type {\n",
       "        vertical-align: middle;\n",
       "    }\n",
       "\n",
       "    .dataframe tbody tr th {\n",
       "        vertical-align: top;\n",
       "    }\n",
       "\n",
       "    .dataframe thead th {\n",
       "        text-align: right;\n",
       "    }\n",
       "</style>\n",
       "<table border=\"1\" class=\"dataframe\">\n",
       "  <thead>\n",
       "    <tr style=\"text-align: right;\">\n",
       "      <th></th>\n",
       "      <th>NumRooms</th>\n",
       "      <th>RoofType</th>\n",
       "      <th>Price</th>\n",
       "    </tr>\n",
       "  </thead>\n",
       "  <tbody>\n",
       "    <tr>\n",
       "      <th>0</th>\n",
       "      <td>NaN</td>\n",
       "      <td>NaN</td>\n",
       "      <td>127500</td>\n",
       "    </tr>\n",
       "    <tr>\n",
       "      <th>1</th>\n",
       "      <td>2.0</td>\n",
       "      <td>NaN</td>\n",
       "      <td>106000</td>\n",
       "    </tr>\n",
       "    <tr>\n",
       "      <th>2</th>\n",
       "      <td>4.0</td>\n",
       "      <td>Slate</td>\n",
       "      <td>178100</td>\n",
       "    </tr>\n",
       "    <tr>\n",
       "      <th>3</th>\n",
       "      <td>NaN</td>\n",
       "      <td>NaN</td>\n",
       "      <td>140000</td>\n",
       "    </tr>\n",
       "  </tbody>\n",
       "</table>\n",
       "</div>"
      ],
      "text/plain": [
       "   NumRooms RoofType   Price\n",
       "0       NaN      NaN  127500\n",
       "1       2.0      NaN  106000\n",
       "2       4.0    Slate  178100\n",
       "3       NaN      NaN  140000"
      ]
     },
     "execution_count": 3,
     "metadata": {},
     "output_type": "execute_result"
    }
   ],
   "source": [
    "data"
   ]
  },
  {
   "cell_type": "markdown",
   "id": "8eb945c0",
   "metadata": {},
   "source": [
    "## Data Preparation"
   ]
  },
  {
   "cell_type": "markdown",
   "id": "33c0f8b1",
   "metadata": {},
   "source": [
    "In supervised learning, models are trained to predict a _target_ value given a set of _input_ values. \n",
    "\n",
    "The first step in processing the dataset is to seperate the columns corresponding to input and target values. We can select columns either by particular labels (`data.loc`) or via integer locations (`data.iloc`)."
   ]
  },
  {
   "cell_type": "code",
   "execution_count": 4,
   "id": "18b4b620",
   "metadata": {},
   "outputs": [],
   "source": [
    "inputs, targets = data.iloc[:, 0:2], data.iloc[:, 2]"
   ]
  },
  {
   "cell_type": "code",
   "execution_count": 5,
   "id": "17d17771",
   "metadata": {},
   "outputs": [
    {
     "data": {
      "text/html": [
       "<div>\n",
       "<style scoped>\n",
       "    .dataframe tbody tr th:only-of-type {\n",
       "        vertical-align: middle;\n",
       "    }\n",
       "\n",
       "    .dataframe tbody tr th {\n",
       "        vertical-align: top;\n",
       "    }\n",
       "\n",
       "    .dataframe thead th {\n",
       "        text-align: right;\n",
       "    }\n",
       "</style>\n",
       "<table border=\"1\" class=\"dataframe\">\n",
       "  <thead>\n",
       "    <tr style=\"text-align: right;\">\n",
       "      <th></th>\n",
       "      <th>NumRooms</th>\n",
       "      <th>RoofType</th>\n",
       "    </tr>\n",
       "  </thead>\n",
       "  <tbody>\n",
       "    <tr>\n",
       "      <th>0</th>\n",
       "      <td>NaN</td>\n",
       "      <td>NaN</td>\n",
       "    </tr>\n",
       "    <tr>\n",
       "      <th>1</th>\n",
       "      <td>2.0</td>\n",
       "      <td>NaN</td>\n",
       "    </tr>\n",
       "    <tr>\n",
       "      <th>2</th>\n",
       "      <td>4.0</td>\n",
       "      <td>Slate</td>\n",
       "    </tr>\n",
       "    <tr>\n",
       "      <th>3</th>\n",
       "      <td>NaN</td>\n",
       "      <td>NaN</td>\n",
       "    </tr>\n",
       "  </tbody>\n",
       "</table>\n",
       "</div>"
      ],
      "text/plain": [
       "   NumRooms RoofType\n",
       "0       NaN      NaN\n",
       "1       2.0      NaN\n",
       "2       4.0    Slate\n",
       "3       NaN      NaN"
      ]
     },
     "execution_count": 5,
     "metadata": {},
     "output_type": "execute_result"
    }
   ],
   "source": [
    "inputs"
   ]
  },
  {
   "cell_type": "code",
   "execution_count": 6,
   "id": "3a22fc2d",
   "metadata": {},
   "outputs": [
    {
     "data": {
      "text/plain": [
       "0    127500\n",
       "1    106000\n",
       "2    178100\n",
       "3    140000\n",
       "Name: Price, dtype: int64"
      ]
     },
     "execution_count": 6,
     "metadata": {},
     "output_type": "execute_result"
    }
   ],
   "source": [
    "targets"
   ]
  },
  {
   "cell_type": "markdown",
   "id": "e88ea87c",
   "metadata": {},
   "source": [
    "Entries with value NA or missing values are replaced with `NaN` (not a number). Depending on the context, they can be handled either through _imputation_ or _deletion_.\n",
    "- Imputation replaces missing values with estimates.\n",
    "- Deletion means discrading the rows and columns that contains missing values."
   ]
  },
  {
   "cell_type": "markdown",
   "id": "902a9a86",
   "metadata": {},
   "source": [
    "### Common imputation heuristics"
   ]
  },
  {
   "cell_type": "markdown",
   "id": "3f6205cd",
   "metadata": {},
   "source": [
    "For categorical input fields, we can treat `NaN` as a category. \n",
    "\n",
    "The `RoomType` column has values `Slate` and `NaN`. Therefore, the column can be coverted into two columns: `RoofType_Slate` and `RoofType_nan`."
   ]
  },
  {
   "cell_type": "code",
   "execution_count": 7,
   "id": "d917e7d7",
   "metadata": {},
   "outputs": [],
   "source": [
    "inputs = pd.get_dummies(inputs, dummy_na=True)"
   ]
  },
  {
   "cell_type": "code",
   "execution_count": 8,
   "id": "73a57e15",
   "metadata": {},
   "outputs": [
    {
     "data": {
      "text/html": [
       "<div>\n",
       "<style scoped>\n",
       "    .dataframe tbody tr th:only-of-type {\n",
       "        vertical-align: middle;\n",
       "    }\n",
       "\n",
       "    .dataframe tbody tr th {\n",
       "        vertical-align: top;\n",
       "    }\n",
       "\n",
       "    .dataframe thead th {\n",
       "        text-align: right;\n",
       "    }\n",
       "</style>\n",
       "<table border=\"1\" class=\"dataframe\">\n",
       "  <thead>\n",
       "    <tr style=\"text-align: right;\">\n",
       "      <th></th>\n",
       "      <th>NumRooms</th>\n",
       "      <th>RoofType_Slate</th>\n",
       "      <th>RoofType_nan</th>\n",
       "    </tr>\n",
       "  </thead>\n",
       "  <tbody>\n",
       "    <tr>\n",
       "      <th>0</th>\n",
       "      <td>NaN</td>\n",
       "      <td>False</td>\n",
       "      <td>True</td>\n",
       "    </tr>\n",
       "    <tr>\n",
       "      <th>1</th>\n",
       "      <td>2.0</td>\n",
       "      <td>False</td>\n",
       "      <td>True</td>\n",
       "    </tr>\n",
       "    <tr>\n",
       "      <th>2</th>\n",
       "      <td>4.0</td>\n",
       "      <td>True</td>\n",
       "      <td>False</td>\n",
       "    </tr>\n",
       "    <tr>\n",
       "      <th>3</th>\n",
       "      <td>NaN</td>\n",
       "      <td>False</td>\n",
       "      <td>True</td>\n",
       "    </tr>\n",
       "  </tbody>\n",
       "</table>\n",
       "</div>"
      ],
      "text/plain": [
       "   NumRooms  RoofType_Slate  RoofType_nan\n",
       "0       NaN           False          True\n",
       "1       2.0           False          True\n",
       "2       4.0            True         False\n",
       "3       NaN           False          True"
      ]
     },
     "execution_count": 8,
     "metadata": {},
     "output_type": "execute_result"
    }
   ],
   "source": [
    "inputs"
   ]
  },
  {
   "cell_type": "markdown",
   "id": "350f7661",
   "metadata": {},
   "source": [
    "For missing numerical values, a common heuristic is to replace the `NaN` entries with the mean of the corresponding column."
   ]
  },
  {
   "cell_type": "code",
   "execution_count": 9,
   "id": "1a40f913",
   "metadata": {},
   "outputs": [
    {
     "data": {
      "text/html": [
       "<div>\n",
       "<style scoped>\n",
       "    .dataframe tbody tr th:only-of-type {\n",
       "        vertical-align: middle;\n",
       "    }\n",
       "\n",
       "    .dataframe tbody tr th {\n",
       "        vertical-align: top;\n",
       "    }\n",
       "\n",
       "    .dataframe thead th {\n",
       "        text-align: right;\n",
       "    }\n",
       "</style>\n",
       "<table border=\"1\" class=\"dataframe\">\n",
       "  <thead>\n",
       "    <tr style=\"text-align: right;\">\n",
       "      <th></th>\n",
       "      <th>NumRooms</th>\n",
       "      <th>RoofType_Slate</th>\n",
       "      <th>RoofType_nan</th>\n",
       "    </tr>\n",
       "  </thead>\n",
       "  <tbody>\n",
       "    <tr>\n",
       "      <th>0</th>\n",
       "      <td>3.0</td>\n",
       "      <td>False</td>\n",
       "      <td>True</td>\n",
       "    </tr>\n",
       "    <tr>\n",
       "      <th>1</th>\n",
       "      <td>2.0</td>\n",
       "      <td>False</td>\n",
       "      <td>True</td>\n",
       "    </tr>\n",
       "    <tr>\n",
       "      <th>2</th>\n",
       "      <td>4.0</td>\n",
       "      <td>True</td>\n",
       "      <td>False</td>\n",
       "    </tr>\n",
       "    <tr>\n",
       "      <th>3</th>\n",
       "      <td>3.0</td>\n",
       "      <td>False</td>\n",
       "      <td>True</td>\n",
       "    </tr>\n",
       "  </tbody>\n",
       "</table>\n",
       "</div>"
      ],
      "text/plain": [
       "   NumRooms  RoofType_Slate  RoofType_nan\n",
       "0       3.0           False          True\n",
       "1       2.0           False          True\n",
       "2       4.0            True         False\n",
       "3       3.0           False          True"
      ]
     },
     "execution_count": 9,
     "metadata": {},
     "output_type": "execute_result"
    }
   ],
   "source": [
    "inputs = inputs.fillna(inputs.mean())\n",
    "inputs"
   ]
  },
  {
   "cell_type": "markdown",
   "id": "3c21848f",
   "metadata": {},
   "source": [
    "## Conversion to Tensor Format"
   ]
  },
  {
   "cell_type": "markdown",
   "id": "04e06d9d",
   "metadata": {},
   "source": [
    "When all entries in `inputs` and `targets` are numerical (Boolean values are converted to 0s and 1s), they can now be loaded into a tensor."
   ]
  },
  {
   "cell_type": "code",
   "execution_count": 10,
   "id": "055b0d68",
   "metadata": {},
   "outputs": [],
   "source": [
    "X = torch.tensor(inputs.to_numpy(dtype=float))\n",
    "y = torch.tensor(targets.to_numpy(dtype=float))"
   ]
  },
  {
   "cell_type": "code",
   "execution_count": 11,
   "id": "f713cadd",
   "metadata": {},
   "outputs": [
    {
     "data": {
      "text/plain": [
       "tensor([[3., 0., 1.],\n",
       "        [2., 0., 1.],\n",
       "        [4., 1., 0.],\n",
       "        [3., 0., 1.]], dtype=torch.float64)"
      ]
     },
     "execution_count": 11,
     "metadata": {},
     "output_type": "execute_result"
    }
   ],
   "source": [
    "X"
   ]
  },
  {
   "cell_type": "code",
   "execution_count": 12,
   "id": "49bf3725",
   "metadata": {},
   "outputs": [
    {
     "data": {
      "text/plain": [
       "tensor([127500., 106000., 178100., 140000.], dtype=torch.float64)"
      ]
     },
     "execution_count": 12,
     "metadata": {},
     "output_type": "execute_result"
    }
   ],
   "source": [
    "y"
   ]
  },
  {
   "cell_type": "markdown",
   "id": "dc43ab49",
   "metadata": {},
   "source": [
    "There will be more data processing skills in [Section 5.7](https://d2l.ai/chapter_multilayer-perceptrons/kaggle-house-price.html#sec-kaggle-house).\n",
    "\n",
    "Data processing can get messy for a myriad of reasons. The problems will become apparent once we get to computer vision and natural language processing. \n",
    "\n",
    "Real-world datasets are also ften affected by outliers, faulty measurements, and recording errors which must be addressed before data is fed into a model. Also, data visualization tools are not only useful in presenting data but also inspecting data."
   ]
  },
  {
   "cell_type": "markdown",
   "id": "c647a801",
   "metadata": {},
   "source": [
    "## Exercises"
   ]
  },
  {
   "cell_type": "markdown",
   "id": "42706f7a",
   "metadata": {},
   "source": [
    "1. Try loading datasets, e.g., Abalone from the [UCI Machine Learning Repository](https://archive.ics.uci.edu/dataset/1/abalone) and inspect their properties. \n",
    "- What fraction of them has missing values? \n",
    "- What fraction of the variables is numerical, categorical, or text?"
   ]
  },
  {
   "cell_type": "code",
   "execution_count": 18,
   "id": "20832bf8",
   "metadata": {},
   "outputs": [],
   "source": [
    "abalone_names= [\"sex\", \"length\", \"diameter\", \"height\", \"whole_weight\", \n",
    "                \"shucked_weight\", \"viscera_weight\", \"shell_weight\", \"rings\"]\n",
    "abalone_data = pd.read_csv(r'../../datasets/abalone.data', names=abalone_names)"
   ]
  },
  {
   "cell_type": "code",
   "execution_count": 24,
   "id": "21b5eb01",
   "metadata": {},
   "outputs": [
    {
     "data": {
      "text/plain": [
       "sex               0.0\n",
       "length            0.0\n",
       "diameter          0.0\n",
       "height            0.0\n",
       "whole_weight      0.0\n",
       "shucked_weight    0.0\n",
       "viscera_weight    0.0\n",
       "shell_weight      0.0\n",
       "rings             0.0\n",
       "dtype: float64"
      ]
     },
     "execution_count": 24,
     "metadata": {},
     "output_type": "execute_result"
    }
   ],
   "source": [
    "abalone_data.isna().mean()"
   ]
  },
  {
   "cell_type": "code",
   "execution_count": 31,
   "id": "85c1b16b",
   "metadata": {},
   "outputs": [],
   "source": [
    "numerical_cols = abalone_data.select_dtypes(include=[\"number\"]).shape[1]\n",
    "categorical_cols = abalone_data.select_dtypes(include=[\"object\"]).shape[1]\n",
    "total_cols = abalone_data.shape[1]"
   ]
  },
  {
   "cell_type": "code",
   "execution_count": 43,
   "id": "353b69fb",
   "metadata": {},
   "outputs": [],
   "source": [
    "numerical_percentage = round(numerical_cols/total_cols, 4) * 100\n",
    "categorical_percentage = round(categorical_cols/total_cols, 4) * 100"
   ]
  },
  {
   "cell_type": "code",
   "execution_count": 45,
   "id": "2b2c060a",
   "metadata": {},
   "outputs": [
    {
     "name": "stdout",
     "output_type": "stream",
     "text": [
      "numerical variables: 88.89%\n",
      "categorical variables: 0.1111%\n"
     ]
    }
   ],
   "source": [
    "print(f'numerical variables: {numerical_percentage}%')\n",
    "print(f'categorical variables: {categorical_percentage}%')"
   ]
  },
  {
   "cell_type": "markdown",
   "id": "1e1cfa30",
   "metadata": {},
   "source": [
    "2. Try indexing and selecting data columns by name rather than by column number. The pandas documentation on indexing has further details on how to do this."
   ]
  },
  {
   "cell_type": "code",
   "execution_count": 55,
   "id": "985f11c7",
   "metadata": {},
   "outputs": [
    {
     "data": {
      "text/plain": [
       "0    M\n",
       "1    M\n",
       "2    F\n",
       "3    M\n",
       "4    I\n",
       "Name: sex, dtype: object"
      ]
     },
     "execution_count": 55,
     "metadata": {},
     "output_type": "execute_result"
    }
   ],
   "source": [
    "sex_cols = abalone_data.loc[:, 'sex']\n",
    "sex_cols.head()"
   ]
  },
  {
   "cell_type": "code",
   "execution_count": 54,
   "id": "335815d7",
   "metadata": {},
   "outputs": [
    {
     "data": {
      "text/html": [
       "<div>\n",
       "<style scoped>\n",
       "    .dataframe tbody tr th:only-of-type {\n",
       "        vertical-align: middle;\n",
       "    }\n",
       "\n",
       "    .dataframe tbody tr th {\n",
       "        vertical-align: top;\n",
       "    }\n",
       "\n",
       "    .dataframe thead th {\n",
       "        text-align: right;\n",
       "    }\n",
       "</style>\n",
       "<table border=\"1\" class=\"dataframe\">\n",
       "  <thead>\n",
       "    <tr style=\"text-align: right;\">\n",
       "      <th></th>\n",
       "      <th>length</th>\n",
       "      <th>diameter</th>\n",
       "      <th>height</th>\n",
       "    </tr>\n",
       "  </thead>\n",
       "  <tbody>\n",
       "    <tr>\n",
       "      <th>0</th>\n",
       "      <td>0.455</td>\n",
       "      <td>0.365</td>\n",
       "      <td>0.095</td>\n",
       "    </tr>\n",
       "    <tr>\n",
       "      <th>1</th>\n",
       "      <td>0.350</td>\n",
       "      <td>0.265</td>\n",
       "      <td>0.090</td>\n",
       "    </tr>\n",
       "    <tr>\n",
       "      <th>2</th>\n",
       "      <td>0.530</td>\n",
       "      <td>0.420</td>\n",
       "      <td>0.135</td>\n",
       "    </tr>\n",
       "    <tr>\n",
       "      <th>3</th>\n",
       "      <td>0.440</td>\n",
       "      <td>0.365</td>\n",
       "      <td>0.125</td>\n",
       "    </tr>\n",
       "    <tr>\n",
       "      <th>4</th>\n",
       "      <td>0.330</td>\n",
       "      <td>0.255</td>\n",
       "      <td>0.080</td>\n",
       "    </tr>\n",
       "  </tbody>\n",
       "</table>\n",
       "</div>"
      ],
      "text/plain": [
       "   length  diameter  height\n",
       "0   0.455     0.365   0.095\n",
       "1   0.350     0.265   0.090\n",
       "2   0.530     0.420   0.135\n",
       "3   0.440     0.365   0.125\n",
       "4   0.330     0.255   0.080"
      ]
     },
     "execution_count": 54,
     "metadata": {},
     "output_type": "execute_result"
    }
   ],
   "source": [
    "dimensions = abalone_data.loc[:, (\"length\", \"diameter\", \"height\")]\n",
    "dimensions.head()"
   ]
  },
  {
   "cell_type": "markdown",
   "id": "dec3ec44",
   "metadata": {},
   "source": [
    "3. How large a dataset do you think you could load this way? What might be the limitations? Hint: consider the time to read the data, representation, processing, and memory footprint. Try this out on your laptop. What happens if you try it out on a server?\n",
    "- I don't want to limit test as of the moment. But this is dependent on the RAM of one's system. It is likely that servers have more resources. Meaning, they can handle larger datasets better."
   ]
  },
  {
   "cell_type": "markdown",
   "id": "9c51d9f9",
   "metadata": {},
   "source": [
    "4. How would you deal with data that has a very large number of categories? What if the category labels are all unique? Should you include the latter?\n",
    "- An excessive amount of categories the information it provides may not be useful. First, a model may likely struggle learn meaningful patterns. Second, each category may contain sparse data. Last, categories may be similar or irrelevant. Consider grouping similar categories or deleting irrelevant categories. Frequency encoding or mean encoding may also be useful."
   ]
  },
  {
   "cell_type": "markdown",
   "id": "928f4402",
   "metadata": {},
   "source": [
    "5. What alternatives to pandas can you think of?\n",
    "- [Polars](https://github.com/pola-rs/polars) is another Dataframe library. It is fast and multi-threaded. The library claims that it [processes large DataFrames faster](https://www.linkedin.com/pulse/polars-vs-pandas-benchmarking-performances-beyond-l6svf)."
   ]
  }
 ],
 "metadata": {
  "kernelspec": {
   "display_name": "D2L",
   "language": "python",
   "name": "d2l"
  },
  "language_info": {
   "codemirror_mode": {
    "name": "ipython",
    "version": 3
   },
   "file_extension": ".py",
   "mimetype": "text/x-python",
   "name": "python",
   "nbconvert_exporter": "python",
   "pygments_lexer": "ipython3",
   "version": "3.10.11"
  }
 },
 "nbformat": 4,
 "nbformat_minor": 5
}
