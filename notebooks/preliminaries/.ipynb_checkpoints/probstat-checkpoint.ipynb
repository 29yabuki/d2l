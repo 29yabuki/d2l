{
 "cells": [
  {
   "cell_type": "code",
   "execution_count": 1,
   "id": "ae836c78",
   "metadata": {},
   "outputs": [],
   "source": [
    "%matplotlib inline\n",
    "import random\n",
    "import torch\n",
    "from torch.distributions.multinomial import Multinomial\n",
    "from d2l import torch as d2l"
   ]
  },
  {
   "cell_type": "markdown",
   "id": "5b74301f",
   "metadata": {},
   "source": [
    "## Tossing Coins"
   ]
  },
  {
   "cell_type": "markdown",
   "id": "d986922e",
   "metadata": {},
   "source": [
    "Probabilities are _theoretical_ quantities that underly the data generating process.\n",
    "\n",
    "Formally, the quantity $\\frac{1}{2}$ is called _probability_.\n",
    "\n",
    "Probabilities assigns scores between $0$ and $1$ to outcomes of interest called events.\n",
    "\n",
    "Statistics are _empirical_ quantities that are computed as functions of the observed data.\n",
    "\n",
    "The frequencies when tossing a coin $\\frac{\\text{num of heads}}{n}$ and $\\frac{\\text{num of tails}}{n}$ are statistics not probabilities.\n",
    "\n",
    "Estimators produces estimates of model parameters such as probabilities when given a dataset.\n",
    "\n",
    "One natural estimator is the ratio of the _observed_ heads to the total number of tosses.\n",
    "\n",
    "When estimators satiisfy the _consistency_ property, it ensures estimates converge to the true probabilities. This helps predict statistical properties of future data from the same population.\n",
    "\n",
    "\n",
    "Sampling is the drawing of realizations from underlying random process.\n"
   ]
  },
  {
   "cell_type": "code",
   "execution_count": 26,
   "id": "6bf7f851",
   "metadata": {},
   "outputs": [
    {
     "name": "stdout",
     "output_type": "stream",
     "text": [
      "heads, tails:  [48, 52]\n"
     ]
    }
   ],
   "source": [
    "num_tosses = 100\n",
    "heads = sum([random.random() > 0.5 for _ in range(num_tosses)])\n",
    "tails = num_tosses - heads\n",
    "print(\"heads, tails: \", [heads, tails])"
   ]
  },
  {
   "cell_type": "code",
   "execution_count": null,
   "id": "1737c162",
   "metadata": {},
   "outputs": [],
   "source": []
  }
 ],
 "metadata": {
  "kernelspec": {
   "display_name": "D2L",
   "language": "python",
   "name": "d2l"
  },
  "language_info": {
   "codemirror_mode": {
    "name": "ipython",
    "version": 3
   },
   "file_extension": ".py",
   "mimetype": "text/x-python",
   "name": "python",
   "nbconvert_exporter": "python",
   "pygments_lexer": "ipython3",
   "version": "3.10.11"
  }
 },
 "nbformat": 4,
 "nbformat_minor": 5
}
