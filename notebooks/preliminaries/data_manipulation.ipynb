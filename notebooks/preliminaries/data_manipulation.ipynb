{
 "cells": [
  {
   "cell_type": "code",
   "execution_count": 1,
   "id": "2aa4ad23-4140-4f08-be55-3e2a37729e34",
   "metadata": {},
   "outputs": [],
   "source": [
    "import torch"
   ]
  },
  {
   "cell_type": "code",
   "execution_count": 2,
   "id": "45870ce0-7001-4a42-bc4c-a746748c8a9d",
   "metadata": {},
   "outputs": [
    {
     "data": {
      "text/plain": [
       "tensor([ 0.,  1.,  2.,  3.,  4.,  5.,  6.,  7.,  8.,  9., 10., 11.])"
      ]
     },
     "execution_count": 2,
     "metadata": {},
     "output_type": "execute_result"
    }
   ],
   "source": [
    "x = torch.arange(12, dtype=torch.float32)\n",
    "x"
   ]
  },
  {
   "cell_type": "markdown",
   "id": "4072d9a8-1552-4be6-be1d-e2136903906e",
   "metadata": {},
   "source": [
    "The `.numel()` function returns the number of elements of a tensor."
   ]
  },
  {
   "cell_type": "code",
   "execution_count": 3,
   "id": "7347666e-5bd1-4ecc-995a-4a3d0eceab6f",
   "metadata": {},
   "outputs": [
    {
     "data": {
      "text/plain": [
       "12"
      ]
     },
     "execution_count": 3,
     "metadata": {},
     "output_type": "execute_result"
    }
   ],
   "source": [
    "x.numel()"
   ]
  },
  {
   "cell_type": "markdown",
   "id": "f632037c-3350-4052-87a2-12e0b7f6ac93",
   "metadata": {},
   "source": [
    "The `x.shape` function returns the shape of the tensor."
   ]
  },
  {
   "cell_type": "code",
   "execution_count": 4,
   "id": "37db6dd4-cd3b-44b4-a3e6-f4b6412398d5",
   "metadata": {},
   "outputs": [
    {
     "data": {
      "text/plain": [
       "torch.Size([12])"
      ]
     },
     "execution_count": 4,
     "metadata": {},
     "output_type": "execute_result"
    }
   ],
   "source": [
    "x.shape"
   ]
  },
  {
   "cell_type": "markdown",
   "id": "1a404028-d0bf-46c2-a885-d6a5e903a80c",
   "metadata": {},
   "source": [
    "The `.reshape()` function changes the shape of the tensor without changing its size and values."
   ]
  },
  {
   "cell_type": "code",
   "execution_count": 5,
   "id": "3b62de89-1dfc-4a22-a63e-b3fefd9c8bcd",
   "metadata": {},
   "outputs": [
    {
     "data": {
      "text/plain": [
       "tensor([[ 0.,  1.,  2.,  3.],\n",
       "        [ 4.,  5.,  6.,  7.],\n",
       "        [ 8.,  9., 10., 11.]])"
      ]
     },
     "execution_count": 5,
     "metadata": {},
     "output_type": "execute_result"
    }
   ],
   "source": [
    "X = x.reshape(3, 4)\n",
    "X"
   ]
  },
  {
   "cell_type": "code",
   "execution_count": 6,
   "id": "684d1ae8-e9e5-46cc-936b-a34645ee4875",
   "metadata": {},
   "outputs": [
    {
     "data": {
      "text/plain": [
       "tensor(True)"
      ]
     },
     "execution_count": 6,
     "metadata": {},
     "output_type": "execute_result"
    }
   ],
   "source": [
    "x[3] == X[0, 3]"
   ]
  },
  {
   "cell_type": "markdown",
   "id": "1ae38993-0ded-4b11-8d9a-522efd4a71fe",
   "metadata": {},
   "source": [
    "Given a tensor size $n$ and target shape $(h, w)$, we know that\n",
    "$$\n",
    "w = \\frac{n}{h}\n",
    "$$"
   ]
  },
  {
   "cell_type": "markdown",
   "id": "e4a7a038-7c3b-4f2e-8591-92597a159d69",
   "metadata": {},
   "source": [
    "To automatically infer one component of the shape, place $-1$ for the shape component."
   ]
  },
  {
   "cell_type": "code",
   "execution_count": 7,
   "id": "b7821dbf-1301-4937-b2c4-ef6b8d1ac3be",
   "metadata": {},
   "outputs": [],
   "source": [
    "a = x.reshape(3, 4)\n",
    "b = x.reshape(-1, 4)\n",
    "c = x.reshape(3, -1)"
   ]
  },
  {
   "cell_type": "code",
   "execution_count": 8,
   "id": "e7e7174b-9274-46ac-b963-94927821f119",
   "metadata": {},
   "outputs": [
    {
     "data": {
      "text/plain": [
       "True"
      ]
     },
     "execution_count": 8,
     "metadata": {},
     "output_type": "execute_result"
    }
   ],
   "source": [
    "a.shape == b.shape"
   ]
  },
  {
   "cell_type": "code",
   "execution_count": 9,
   "id": "b5ae0a91-2e10-4147-a9ef-e527b2c617d1",
   "metadata": {},
   "outputs": [
    {
     "data": {
      "text/plain": [
       "True"
      ]
     },
     "execution_count": 9,
     "metadata": {},
     "output_type": "execute_result"
    }
   ],
   "source": [
    "b.shape == c.shape"
   ]
  },
  {
   "cell_type": "markdown",
   "id": "5f722fd8-f812-451a-9dd3-8d3ac2e92e5b",
   "metadata": {},
   "source": [
    "The `torch.zeros()` function constructs a tensor with all elements set to $0$."
   ]
  },
  {
   "cell_type": "code",
   "execution_count": 10,
   "id": "37ce6c6d-a639-41e1-938a-bf601a346247",
   "metadata": {},
   "outputs": [
    {
     "data": {
      "text/plain": [
       "tensor([[[0., 0., 0., 0.],\n",
       "         [0., 0., 0., 0.],\n",
       "         [0., 0., 0., 0.]],\n",
       "\n",
       "        [[0., 0., 0., 0.],\n",
       "         [0., 0., 0., 0.],\n",
       "         [0., 0., 0., 0.]]])"
      ]
     },
     "execution_count": 10,
     "metadata": {},
     "output_type": "execute_result"
    }
   ],
   "source": [
    "torch.zeros((2, 3, 4))"
   ]
  },
  {
   "cell_type": "markdown",
   "id": "2622c3a3-e00a-4549-bcb4-0936a58c7955",
   "metadata": {},
   "source": [
    "The `torch.ones()` function creates a tensor with all elements set to $1$."
   ]
  },
  {
   "cell_type": "code",
   "execution_count": 11,
   "id": "4eb8ad10-d06e-40fc-a78a-6348c96c1439",
   "metadata": {},
   "outputs": [
    {
     "data": {
      "text/plain": [
       "tensor([[[1., 1., 1., 1.],\n",
       "         [1., 1., 1., 1.],\n",
       "         [1., 1., 1., 1.]],\n",
       "\n",
       "        [[1., 1., 1., 1.],\n",
       "         [1., 1., 1., 1.],\n",
       "         [1., 1., 1., 1.]]])"
      ]
     },
     "execution_count": 11,
     "metadata": {},
     "output_type": "execute_result"
    }
   ],
   "source": [
    "torch.ones((2, 3, 4))"
   ]
  },
  {
   "cell_type": "markdown",
   "id": "2ff565ce-0c80-477d-a815-dd13e41363f9",
   "metadata": {},
   "source": [
    "The parameters of a neural network are often initialized _randomly_. \n",
    "\n",
    "The `torch.randn()` function creates a tensor with elements drawn from a standard Gaussian distribution with $\\mu = 0$ and $\\sigma^2 = 1$."
   ]
  },
  {
   "cell_type": "code",
   "execution_count": 12,
   "id": "67d84735-d1fc-4154-9419-2f1338e87dfe",
   "metadata": {},
   "outputs": [
    {
     "data": {
      "text/plain": [
       "tensor([[ 1.7076, -0.7576,  0.8246,  0.0842],\n",
       "        [-1.4127,  1.5603, -1.1164, -0.7548],\n",
       "        [-0.3218,  0.9509, -0.6311,  0.9358]])"
      ]
     },
     "execution_count": 12,
     "metadata": {},
     "output_type": "execute_result"
    }
   ],
   "source": [
    "torch.randn(3, 4)"
   ]
  },
  {
   "cell_type": "markdown",
   "id": "4c70545a-b6f9-4d23-be14-00f12d62ca61",
   "metadata": {},
   "source": [
    "The `torch.tensor()` function creates a tensor given a data. The data is usually a nested list supplied with arbitrary values."
   ]
  },
  {
   "cell_type": "code",
   "execution_count": 13,
   "id": "3248a4b3-34c8-403f-a904-2e8dfbcc8d54",
   "metadata": {},
   "outputs": [
    {
     "data": {
      "text/plain": [
       "tensor([[2, 1, 4, 3],\n",
       "        [1, 2, 3, 4],\n",
       "        [4, 3, 2, 1]])"
      ]
     },
     "execution_count": 13,
     "metadata": {},
     "output_type": "execute_result"
    }
   ],
   "source": [
    "torch.tensor([[2, 1, 4, 3], [1, 2, 3, 4], [4, 3, 2, 1]])"
   ]
  },
  {
   "cell_type": "markdown",
   "id": "e4299b4e-74f4-4dce-817f-c67178cca181",
   "metadata": {},
   "source": [
    "## Indexing and Slicing"
   ]
  },
  {
   "cell_type": "code",
   "execution_count": 14,
   "id": "16c45ade-d630-44cf-9bcf-6246e281e947",
   "metadata": {},
   "outputs": [
    {
     "data": {
      "text/plain": [
       "tensor([[ 0.,  1.,  2.,  3.],\n",
       "        [ 4.,  5.,  6.,  7.],\n",
       "        [ 8.,  9., 10., 11.]])"
      ]
     },
     "execution_count": 14,
     "metadata": {},
     "output_type": "execute_result"
    }
   ],
   "source": [
    "X"
   ]
  },
  {
   "cell_type": "markdown",
   "id": "a9d52920-0d5e-444d-8048-e5390bc7ae3a",
   "metadata": {},
   "source": [
    "When only one index (or slice) is specified for a $k^{th}$-order tensor, it is applied along axis 0."
   ]
  },
  {
   "cell_type": "code",
   "execution_count": 15,
   "id": "e79762a2-a3ca-4c19-8957-55a641d97367",
   "metadata": {},
   "outputs": [
    {
     "data": {
      "text/plain": [
       "tensor([4., 5., 6., 7.])"
      ]
     },
     "execution_count": 15,
     "metadata": {},
     "output_type": "execute_result"
    }
   ],
   "source": [
    "X[1] #indexing"
   ]
  },
  {
   "cell_type": "markdown",
   "id": "41532563-24fc-44bf-969e-db70ffc78ad1",
   "metadata": {},
   "source": [
    "Negative indexing is used when accessing relative to the end of the list."
   ]
  },
  {
   "cell_type": "code",
   "execution_count": 16,
   "id": "6369a091-28fb-4b0e-9759-3a0420e577e5",
   "metadata": {},
   "outputs": [
    {
     "data": {
      "text/plain": [
       "tensor([ 8.,  9., 10., 11.])"
      ]
     },
     "execution_count": 16,
     "metadata": {},
     "output_type": "execute_result"
    }
   ],
   "source": [
    "X[-1]"
   ]
  },
  {
   "cell_type": "markdown",
   "id": "3f8f3d6e-dd2c-477d-aa3a-e2662519da76",
   "metadata": {},
   "source": [
    "When slicing, the first index (start) is included but not the last (stop)."
   ]
  },
  {
   "cell_type": "code",
   "execution_count": 17,
   "id": "46b97dd4-38cf-4265-8907-2e3780b25f98",
   "metadata": {},
   "outputs": [
    {
     "data": {
      "text/plain": [
       "tensor([[ 4.,  5.,  6.,  7.],\n",
       "        [ 8.,  9., 10., 11.]])"
      ]
     },
     "execution_count": 17,
     "metadata": {},
     "output_type": "execute_result"
    }
   ],
   "source": [
    "X[1:3] #slicing"
   ]
  },
  {
   "cell_type": "code",
   "execution_count": 18,
   "id": "8813b436-9087-4974-9064-1e417266515a",
   "metadata": {},
   "outputs": [
    {
     "data": {
      "text/plain": [
       "tensor([[ 0.,  1.,  2.,  3.],\n",
       "        [ 4.,  5., 17.,  7.],\n",
       "        [ 8.,  9., 10., 11.]])"
      ]
     },
     "execution_count": 18,
     "metadata": {},
     "output_type": "execute_result"
    }
   ],
   "source": [
    "X[1, 2] = 17 # assignment\n",
    "X"
   ]
  },
  {
   "cell_type": "markdown",
   "id": "43e42a8a-9efe-4928-9ad4-3fa11e35344d",
   "metadata": {},
   "source": [
    "`X[:2, :]` accesses the first and second rows and all elements along axis 1 (column)."
   ]
  },
  {
   "cell_type": "code",
   "execution_count": 19,
   "id": "207c27c0-1147-4a60-8e28-53d2ef79b82e",
   "metadata": {},
   "outputs": [
    {
     "data": {
      "text/plain": [
       "tensor([[12., 12., 12., 12.],\n",
       "        [12., 12., 12., 12.],\n",
       "        [ 8.,  9., 10., 11.]])"
      ]
     },
     "execution_count": 19,
     "metadata": {},
     "output_type": "execute_result"
    }
   ],
   "source": [
    "X[:2, :] = 12\n",
    "X"
   ]
  },
  {
   "cell_type": "markdown",
   "id": "da4a8508-b6c1-4a8c-833f-6a2e6f67b55a",
   "metadata": {},
   "source": [
    "## Operations"
   ]
  },
  {
   "cell_type": "markdown",
   "id": "9d026ae7-e3f1-455a-ba99-640136244ef7",
   "metadata": {},
   "source": [
    "_elementwise_ operations apply a standard scalar operation to each element of a tensor.\n",
    "\n",
    "We denote _unary_ scalar operator by the signature $f:\\mathbb{R} \\rightarrow \\mathbb{R}$."
   ]
  },
  {
   "cell_type": "code",
   "execution_count": 20,
   "id": "12e7d63b-91e3-4976-80e9-7c3a72b62505",
   "metadata": {},
   "outputs": [
    {
     "data": {
      "text/plain": [
       "tensor([162754.7969, 162754.7969, 162754.7969, 162754.7969, 162754.7969,\n",
       "        162754.7969, 162754.7969, 162754.7969,   2980.9580,   8103.0840,\n",
       "         22026.4648,  59874.1406])"
      ]
     },
     "execution_count": 20,
     "metadata": {},
     "output_type": "execute_result"
    }
   ],
   "source": [
    "torch.exp(x)"
   ]
  },
  {
   "cell_type": "markdown",
   "id": "492900c5-cf07-4d1d-bafd-8c0a12d76578",
   "metadata": {},
   "source": [
    "We denote _binary_ scalar operators by the signature $f: \\mathbb{R}, \\mathbb{R} \\rightarrow \\mathbb{R}$.\n",
    "\n",
    "Given any two vectors $u$ and $v$ of the _same shape_ and a binary operator $f$, we produce a vector $c = F(c, v)$.\n",
    "This can be done by setting $c_i \\leftarrow f(u_i, v_i)$ for all $i$ where $c_i$, $u_i$, and $v_i$ are $i^{\\text{th}}$ elements of vectors $c$, $u$, and $v$. As a result, the standard arithmetic operators ($+$, $-$, $*$, $/$, $**$) are adapted to work elementwise for identically-shaped tensors of arbitrary shape."
   ]
  },
  {
   "cell_type": "code",
   "execution_count": 21,
   "id": "57462fab-b730-4f24-b7c5-27716cda5368",
   "metadata": {},
   "outputs": [],
   "source": [
    "x = torch.tensor([1.0, 2, 4, 8])\n",
    "y = torch.tensor([2, 2, 2, 2]) "
   ]
  },
  {
   "cell_type": "code",
   "execution_count": 22,
   "id": "c88caa70-4f42-47c4-ab09-a07f16978a05",
   "metadata": {},
   "outputs": [
    {
     "data": {
      "text/plain": [
       "tensor([ 3.,  4.,  6., 10.])"
      ]
     },
     "execution_count": 22,
     "metadata": {},
     "output_type": "execute_result"
    }
   ],
   "source": [
    "x + y"
   ]
  },
  {
   "cell_type": "code",
   "execution_count": 23,
   "id": "3b455f05-d9f5-458a-b6da-3adb72de2422",
   "metadata": {},
   "outputs": [
    {
     "data": {
      "text/plain": [
       "tensor([-1.,  0.,  2.,  6.])"
      ]
     },
     "execution_count": 23,
     "metadata": {},
     "output_type": "execute_result"
    }
   ],
   "source": [
    "x - y"
   ]
  },
  {
   "cell_type": "code",
   "execution_count": 24,
   "id": "9c20f16e-09be-49ec-b58e-485681e3d9a9",
   "metadata": {},
   "outputs": [
    {
     "data": {
      "text/plain": [
       "tensor([ 2.,  4.,  8., 16.])"
      ]
     },
     "execution_count": 24,
     "metadata": {},
     "output_type": "execute_result"
    }
   ],
   "source": [
    "x * y"
   ]
  },
  {
   "cell_type": "code",
   "execution_count": 25,
   "id": "d27e4dca-559e-4179-9fa3-725a47da0939",
   "metadata": {},
   "outputs": [
    {
     "data": {
      "text/plain": [
       "tensor([0.5000, 1.0000, 2.0000, 4.0000])"
      ]
     },
     "execution_count": 25,
     "metadata": {},
     "output_type": "execute_result"
    }
   ],
   "source": [
    "x / y"
   ]
  },
  {
   "cell_type": "code",
   "execution_count": 26,
   "id": "47760152-0f9d-4c47-a887-a58e695d819e",
   "metadata": {},
   "outputs": [
    {
     "data": {
      "text/plain": [
       "tensor([ 1.,  4., 16., 64.])"
      ]
     },
     "execution_count": 26,
     "metadata": {},
     "output_type": "execute_result"
    }
   ],
   "source": [
    "x ** y"
   ]
  },
  {
   "cell_type": "markdown",
   "id": "9df68419-b6d9-4404-8448-f9e755e86b5d",
   "metadata": {},
   "source": [
    "Linear algebraic operations can also be performed such as dot products and matrix multiplications. More on those in its own section."
   ]
  },
  {
   "cell_type": "markdown",
   "id": "e7204f97-2eb9-4a36-aa38-b3e3e7d57c27",
   "metadata": {},
   "source": [
    "Concatenation of multiple tensors is also possible. Use `torch.cat((X, Y), dim)` and provide a list of tensors along with the axis to concatenate."
   ]
  },
  {
   "cell_type": "code",
   "execution_count": 27,
   "id": "82edfcb0-3fc9-4397-b33a-07dac441d85f",
   "metadata": {},
   "outputs": [],
   "source": [
    "X = torch.arange(12, dtype=torch.float32).reshape((3,4))\n",
    "Y = torch.tensor([[2.0, 1, 4, 3], [1, 2, 3, 4], [4, 3, 2, 1]])"
   ]
  },
  {
   "cell_type": "code",
   "execution_count": 28,
   "id": "9041eec7-8536-4f6f-b10a-37b414548485",
   "metadata": {},
   "outputs": [
    {
     "data": {
      "text/plain": [
       "tensor([[ 0.,  1.,  2.,  3.],\n",
       "        [ 4.,  5.,  6.,  7.],\n",
       "        [ 8.,  9., 10., 11.],\n",
       "        [ 2.,  1.,  4.,  3.],\n",
       "        [ 1.,  2.,  3.,  4.],\n",
       "        [ 4.,  3.,  2.,  1.]])"
      ]
     },
     "execution_count": 28,
     "metadata": {},
     "output_type": "execute_result"
    }
   ],
   "source": [
    "torch.cat((X, Y), dim=0)"
   ]
  },
  {
   "cell_type": "code",
   "execution_count": 29,
   "id": "50045893-8bb3-4fa0-85c3-fcdc980e5709",
   "metadata": {},
   "outputs": [
    {
     "data": {
      "text/plain": [
       "tensor([[ 0.,  1.,  2.,  3.,  2.,  1.,  4.,  3.],\n",
       "        [ 4.,  5.,  6.,  7.,  1.,  2.,  3.,  4.],\n",
       "        [ 8.,  9., 10., 11.,  4.,  3.,  2.,  1.]])"
      ]
     },
     "execution_count": 29,
     "metadata": {},
     "output_type": "execute_result"
    }
   ],
   "source": [
    "torch.cat((X, Y), dim=1)"
   ]
  },
  {
   "cell_type": "markdown",
   "id": "8f852daa-77a8-4855-93d7-423aefe9d42d",
   "metadata": {},
   "source": [
    "Logical statements also exist to construct binary tensors."
   ]
  },
  {
   "cell_type": "code",
   "execution_count": 30,
   "id": "a7ccdb3e-3e65-420e-b6ef-741bfd6a0caa",
   "metadata": {},
   "outputs": [
    {
     "data": {
      "text/plain": [
       "tensor([[False,  True, False,  True],\n",
       "        [False, False, False, False],\n",
       "        [False, False, False, False]])"
      ]
     },
     "execution_count": 30,
     "metadata": {},
     "output_type": "execute_result"
    }
   ],
   "source": [
    "X == Y"
   ]
  },
  {
   "cell_type": "markdown",
   "id": "02c9e8e1-d0e8-4ced-b7e3-02127572aee3",
   "metadata": {},
   "source": [
    "Aggregate statements also exists to perform operations on a tensor and yield a tensor with only single element."
   ]
  },
  {
   "cell_type": "code",
   "execution_count": 31,
   "id": "c78e6d2b-6da3-4f5c-9b0c-76ca8771b88b",
   "metadata": {},
   "outputs": [
    {
     "data": {
      "text/plain": [
       "tensor(66.)"
      ]
     },
     "execution_count": 31,
     "metadata": {},
     "output_type": "execute_result"
    }
   ],
   "source": [
    "X.sum()"
   ]
  },
  {
   "cell_type": "markdown",
   "id": "999e30ff-f17f-4835-92f8-9c10c311076f",
   "metadata": {},
   "source": [
    "## Broadcasting"
   ]
  },
  {
   "cell_type": "markdown",
   "id": "82a15813-92fc-49c3-871f-26b773b903aa",
   "metadata": {},
   "source": [
    "Even when shapes differ, it is still possible to perform elementwise _binary_ operations through _broadcasting_.\n",
    "\n",
    "Broadcasting works in two steps:\n",
    "1. When the arrays differ in shape, expand one or both arrays by copying elements along axes with length 1. This will result int both tensors having the same shape.\n",
    "2. Perform the elementwise operation on the expanded arrays.\n",
    "\n",
    "Broadcasting has its roots in linear algebra. Given a $m \\times n$ matrix $A$ and a $n \\times p$ matrix $B$. $A \\times B$ will result in a matrix of shape $m \\times p$. Broadcasting, however, is not limited to this. More on the exercises section.\n",
    "\n",
    "The broadcasting rule states that:\n",
    "> In order to broadcast, the size of the trailing axes for both arrays in an operation must either be the same size or one of them must be one.\n",
    "\n",
    "More explicitly, according to [Stanford CS231](https://cs231n.github.io/python-numpy-tutorial/#numpy-broadcasting), broadcasting two arrays follows the following rules:\n",
    "- If arrays don't have the same rank, prepend the shape of the the lower rank array with $1$s until both shapes have the same length.\n",
    "- Two arrays are compatible _in a dimension_ if in that dimension, either they have the size same or one has a size of $1$.\n",
    "- If arrays are compatible in all dimensions, they can be broadcasted.\n",
    "- After broadcasting, both arrays take the largest shape by expanding to the elementwise maximum of shapes of the two input arrays.\n",
    "- In any dimension where one array has size $1$ and the other is larger, the array with size $1$ acts if it copies values along that dimension."
   ]
  },
  {
   "cell_type": "code",
   "execution_count": 81,
   "id": "a4feae7c-b6df-4df8-a065-36cf7f26d13b",
   "metadata": {},
   "outputs": [
    {
     "data": {
      "text/plain": [
       "(torch.Size([3, 1]), torch.Size([1, 2]))"
      ]
     },
     "execution_count": 81,
     "metadata": {},
     "output_type": "execute_result"
    }
   ],
   "source": [
    "a = torch.arange(3).reshape((3, 1))\n",
    "b = torch.arange(2).reshape((1, 2))\n",
    "a.shape, b.shape"
   ]
  },
  {
   "cell_type": "code",
   "execution_count": 33,
   "id": "8b4b6386-b65a-40c0-bf40-507c5812d8aa",
   "metadata": {},
   "outputs": [
    {
     "data": {
      "text/plain": [
       "tensor([[0],\n",
       "        [1],\n",
       "        [2]])"
      ]
     },
     "execution_count": 33,
     "metadata": {},
     "output_type": "execute_result"
    }
   ],
   "source": [
    "a"
   ]
  },
  {
   "cell_type": "code",
   "execution_count": 34,
   "id": "b9d7364f-e33c-42ea-84cf-590b451bb594",
   "metadata": {},
   "outputs": [
    {
     "data": {
      "text/plain": [
       "tensor([[0, 1]])"
      ]
     },
     "execution_count": 34,
     "metadata": {},
     "output_type": "execute_result"
    }
   ],
   "source": [
    "b"
   ]
  },
  {
   "cell_type": "markdown",
   "id": "6d1fc347-22b8-4de6-8756-ae65bcb8674d",
   "metadata": {},
   "source": [
    "Since $a$ is $3 \\times 1$ and b is $1 \\times 2$, broadcasting produces a $3 \\times 2$ matrix."
   ]
  },
  {
   "cell_type": "code",
   "execution_count": 35,
   "id": "a29e16ce-fc5d-492e-a33e-9b06d83f1104",
   "metadata": {},
   "outputs": [
    {
     "data": {
      "text/plain": [
       "tensor([[0, 1],\n",
       "        [1, 2],\n",
       "        [2, 3]])"
      ]
     },
     "execution_count": 35,
     "metadata": {},
     "output_type": "execute_result"
    }
   ],
   "source": [
    "a + b"
   ]
  },
  {
   "cell_type": "markdown",
   "id": "3c943bfb-3c60-450b-870e-6ee33c25e829",
   "metadata": {},
   "source": [
    "## Saving Memory"
   ]
  },
  {
   "cell_type": "markdown",
   "id": "426a1f88-b8e6-46f4-9f20-4d6e15df2b8b",
   "metadata": {},
   "source": [
    "Python's `id()` function gives the exact address of the referenced object."
   ]
  },
  {
   "cell_type": "code",
   "execution_count": 36,
   "id": "11a5f2c5-c803-4d7d-af81-5469342e9705",
   "metadata": {},
   "outputs": [
    {
     "data": {
      "text/plain": [
       "False"
      ]
     },
     "execution_count": 36,
     "metadata": {},
     "output_type": "execute_result"
    }
   ],
   "source": [
    "before = id(Y)\n",
    "Y = Y + X\n",
    "id(Y) == before"
   ]
  },
  {
   "cell_type": "markdown",
   "id": "a27a9057-cdbd-472e-a622-c48727d8543c",
   "metadata": {},
   "source": [
    "In machine learning, it is undesirable to allocate memory unnecessarily. \n",
    "\n",
    "There are two main reason.\n",
    "- We often have hundreds of megabytes of parameters that are updated multiple times per second.\n",
    "- Multiple variables may reference the same parameters.\n",
    "\n",
    "Therefore, it is important to perform these updates _in place_. If not, we must update all these references with care."
   ]
  },
  {
   "cell_type": "markdown",
   "id": "ef130ce7-35e4-4622-b9ee-0977a8540372",
   "metadata": {},
   "source": [
    "Luckily, performing operations in-place is easy. Assign the result to a previously allocated arrray by using the following slice notation `Y[:] = <expression>`."
   ]
  },
  {
   "cell_type": "code",
   "execution_count": 37,
   "id": "210b3f03-fe75-4340-a5e1-41465ba64705",
   "metadata": {},
   "outputs": [
    {
     "data": {
      "text/plain": [
       "tensor([[0., 0., 0., 0.],\n",
       "        [0., 0., 0., 0.],\n",
       "        [0., 0., 0., 0.]])"
      ]
     },
     "execution_count": 37,
     "metadata": {},
     "output_type": "execute_result"
    }
   ],
   "source": [
    "Z = torch.zeros_like(Y)\n",
    "Z"
   ]
  },
  {
   "cell_type": "code",
   "execution_count": 38,
   "id": "b1fd37ba-cefa-4130-b839-17bd154b826e",
   "metadata": {},
   "outputs": [
    {
     "name": "stdout",
     "output_type": "stream",
     "text": [
      "id(Z): 2443227970624\n"
     ]
    }
   ],
   "source": [
    "print(f'id(Z): {id(Z)}')"
   ]
  },
  {
   "cell_type": "code",
   "execution_count": 39,
   "id": "afb3d209-010d-4e3a-9381-c6bbd0708b94",
   "metadata": {},
   "outputs": [
    {
     "data": {
      "text/plain": [
       "tensor([[ 2.,  3.,  8.,  9.],\n",
       "        [ 9., 12., 15., 18.],\n",
       "        [20., 21., 22., 23.]])"
      ]
     },
     "execution_count": 39,
     "metadata": {},
     "output_type": "execute_result"
    }
   ],
   "source": [
    "Z[:] = X + Y\n",
    "Z"
   ]
  },
  {
   "cell_type": "code",
   "execution_count": 40,
   "id": "2fbe93a5-6b34-4935-b970-cd8c539e891f",
   "metadata": {},
   "outputs": [
    {
     "name": "stdout",
     "output_type": "stream",
     "text": [
      "id(Z): 2443227970624\n"
     ]
    }
   ],
   "source": [
    "print(f'id(Z): {id(Z)}')"
   ]
  },
  {
   "cell_type": "markdown",
   "id": "8658e237-66d8-40c5-bfde-f2b2b61bb3aa",
   "metadata": {},
   "source": [
    "If the value of $X$ will not be reused, use `X[:] = X + Y` or `X += Y` to reduce memory overhead."
   ]
  },
  {
   "cell_type": "markdown",
   "id": "165530cb-d634-4a82-9887-9e4deb17b258",
   "metadata": {},
   "source": [
    "## Conversion to Other Python Objects"
   ]
  },
  {
   "cell_type": "markdown",
   "id": "59b47229",
   "metadata": {},
   "source": [
    "Coverting to a NumPy tensor (ndarray) to torch tensor is easy because it shares underlying memory. Therefore, changing one through an in-place operation will change the other."
   ]
  },
  {
   "cell_type": "code",
   "execution_count": 41,
   "id": "7376e2eb",
   "metadata": {},
   "outputs": [
    {
     "data": {
      "text/plain": [
       "(numpy.ndarray, torch.Tensor)"
      ]
     },
     "execution_count": 41,
     "metadata": {},
     "output_type": "execute_result"
    }
   ],
   "source": [
    "A = X.numpy()\n",
    "B = torch.from_numpy(A)\n",
    "type(A), type(B)"
   ]
  },
  {
   "cell_type": "markdown",
   "id": "45780ca8",
   "metadata": {},
   "source": [
    "It is also possible to convert a tensor of size $1$ to a Python scalar by invoking the `.item()` function or Python's built-in functions."
   ]
  },
  {
   "cell_type": "code",
   "execution_count": 42,
   "id": "29148c4c",
   "metadata": {},
   "outputs": [
    {
     "data": {
      "text/plain": [
       "(tensor([3.1400]), 3.140000104904175, 3.140000104904175, 3)"
      ]
     },
     "execution_count": 42,
     "metadata": {},
     "output_type": "execute_result"
    }
   ],
   "source": [
    "a = torch.tensor([3.14])\n",
    "a, a.item(), float(a), int(a)"
   ]
  },
  {
   "cell_type": "markdown",
   "id": "5f5112ad",
   "metadata": {},
   "source": [
    "## Exercises"
   ]
  },
  {
   "cell_type": "markdown",
   "id": "9d76a6fd",
   "metadata": {},
   "source": [
    "1. Run the code in this section. Change the conditional statement `X == Y` to `X < Y` or `X > Y`, and then see what kind of tensor you can get."
   ]
  },
  {
   "cell_type": "code",
   "execution_count": 43,
   "id": "c09a1b2b",
   "metadata": {},
   "outputs": [],
   "source": [
    "X = torch.arange(12, dtype=torch.float32).reshape((3,4))\n",
    "Y = torch.tensor([[2.0, 1, 4, 3], [1, 2, 3, 4], [4, 3, 2, 1]])"
   ]
  },
  {
   "cell_type": "code",
   "execution_count": 44,
   "id": "4a1c362c",
   "metadata": {},
   "outputs": [
    {
     "data": {
      "text/plain": [
       "tensor([[False,  True, False,  True],\n",
       "        [False, False, False, False],\n",
       "        [False, False, False, False]])"
      ]
     },
     "execution_count": 44,
     "metadata": {},
     "output_type": "execute_result"
    }
   ],
   "source": [
    "X == Y"
   ]
  },
  {
   "cell_type": "code",
   "execution_count": 45,
   "id": "922d2da2",
   "metadata": {},
   "outputs": [
    {
     "data": {
      "text/plain": [
       "tensor([[ True, False,  True, False],\n",
       "        [False, False, False, False],\n",
       "        [False, False, False, False]])"
      ]
     },
     "execution_count": 45,
     "metadata": {},
     "output_type": "execute_result"
    }
   ],
   "source": [
    "X < Y"
   ]
  },
  {
   "cell_type": "code",
   "execution_count": 46,
   "id": "6ec0e3f7",
   "metadata": {},
   "outputs": [
    {
     "data": {
      "text/plain": [
       "tensor([[False, False, False, False],\n",
       "        [ True,  True,  True,  True],\n",
       "        [ True,  True,  True,  True]])"
      ]
     },
     "execution_count": 46,
     "metadata": {},
     "output_type": "execute_result"
    }
   ],
   "source": [
    "X > Y"
   ]
  },
  {
   "cell_type": "markdown",
   "id": "9a8092c7",
   "metadata": {},
   "source": [
    "2. Replace the two tensors that operate by element in the broadcasting mechanism with other shapes, e.g., $3$-dimensional tensors. Is the result the same as expected?"
   ]
  },
  {
   "cell_type": "code",
   "execution_count": 47,
   "id": "0de0a1e4",
   "metadata": {},
   "outputs": [],
   "source": [
    "a = torch.arange(3).reshape((3, 1))\n",
    "b = torch.arange(2).reshape((1, 2))"
   ]
  },
  {
   "cell_type": "code",
   "execution_count": 48,
   "id": "13e5bb3f",
   "metadata": {},
   "outputs": [
    {
     "data": {
      "text/plain": [
       "tensor([[0],\n",
       "        [1],\n",
       "        [2]])"
      ]
     },
     "execution_count": 48,
     "metadata": {},
     "output_type": "execute_result"
    }
   ],
   "source": [
    "a"
   ]
  },
  {
   "cell_type": "code",
   "execution_count": 49,
   "id": "44dfabc4",
   "metadata": {},
   "outputs": [
    {
     "data": {
      "text/plain": [
       "tensor([[0, 1]])"
      ]
     },
     "execution_count": 49,
     "metadata": {},
     "output_type": "execute_result"
    }
   ],
   "source": [
    "b"
   ]
  },
  {
   "cell_type": "code",
   "execution_count": 50,
   "id": "6af129fc",
   "metadata": {},
   "outputs": [
    {
     "data": {
      "text/plain": [
       "tensor([[0, 1],\n",
       "        [1, 2],\n",
       "        [2, 3]])"
      ]
     },
     "execution_count": 50,
     "metadata": {},
     "output_type": "execute_result"
    }
   ],
   "source": [
    "a + b"
   ]
  },
  {
   "cell_type": "code",
   "execution_count": 51,
   "id": "d12f9f36",
   "metadata": {},
   "outputs": [],
   "source": [
    "Z1 = torch.arange(9).reshape(3,3)\n",
    "Z2 = 1"
   ]
  },
  {
   "cell_type": "code",
   "execution_count": 52,
   "id": "7454eefb",
   "metadata": {},
   "outputs": [
    {
     "data": {
      "text/plain": [
       "tensor([[0, 1, 2],\n",
       "        [3, 4, 5],\n",
       "        [6, 7, 8]])"
      ]
     },
     "execution_count": 52,
     "metadata": {},
     "output_type": "execute_result"
    }
   ],
   "source": [
    "Z1"
   ]
  },
  {
   "cell_type": "code",
   "execution_count": 53,
   "id": "4973abe9",
   "metadata": {},
   "outputs": [
    {
     "data": {
      "text/plain": [
       "1"
      ]
     },
     "execution_count": 53,
     "metadata": {},
     "output_type": "execute_result"
    }
   ],
   "source": [
    "Z2"
   ]
  },
  {
   "cell_type": "code",
   "execution_count": 54,
   "id": "99abfe37",
   "metadata": {},
   "outputs": [
    {
     "data": {
      "text/plain": [
       "tensor([[1, 2, 3],\n",
       "        [4, 5, 6],\n",
       "        [7, 8, 9]])"
      ]
     },
     "execution_count": 54,
     "metadata": {},
     "output_type": "execute_result"
    }
   ],
   "source": [
    "Z1 + Z2"
   ]
  },
  {
   "cell_type": "code",
   "execution_count": 55,
   "id": "03e3455e",
   "metadata": {},
   "outputs": [],
   "source": [
    "Z1 = torch.arange(9).reshape(3,3)\n",
    "Z2 = torch.arange(3, 0, -1).reshape(3,1)"
   ]
  },
  {
   "cell_type": "code",
   "execution_count": 56,
   "id": "e497e6db",
   "metadata": {},
   "outputs": [
    {
     "data": {
      "text/plain": [
       "tensor([[0, 1, 2],\n",
       "        [3, 4, 5],\n",
       "        [6, 7, 8]])"
      ]
     },
     "execution_count": 56,
     "metadata": {},
     "output_type": "execute_result"
    }
   ],
   "source": [
    "Z1"
   ]
  },
  {
   "cell_type": "code",
   "execution_count": 57,
   "id": "71c2633a",
   "metadata": {},
   "outputs": [
    {
     "data": {
      "text/plain": [
       "tensor([[3],\n",
       "        [2],\n",
       "        [1]])"
      ]
     },
     "execution_count": 57,
     "metadata": {},
     "output_type": "execute_result"
    }
   ],
   "source": [
    "Z2"
   ]
  },
  {
   "cell_type": "code",
   "execution_count": 58,
   "id": "ea1d441e",
   "metadata": {},
   "outputs": [
    {
     "data": {
      "text/plain": [
       "tensor([[3, 4, 5],\n",
       "        [5, 6, 7],\n",
       "        [7, 8, 9]])"
      ]
     },
     "execution_count": 58,
     "metadata": {},
     "output_type": "execute_result"
    }
   ],
   "source": [
    "Z1 + Z2"
   ]
  },
  {
   "cell_type": "code",
   "execution_count": 59,
   "id": "44b7cb9f",
   "metadata": {},
   "outputs": [],
   "source": [
    "Z1 = torch.arange(9).reshape(3,3)\n",
    "Z2 = torch.arange(3, 0, -1)"
   ]
  },
  {
   "cell_type": "code",
   "execution_count": 60,
   "id": "aa926015",
   "metadata": {},
   "outputs": [
    {
     "data": {
      "text/plain": [
       "tensor([[0, 1, 2],\n",
       "        [3, 4, 5],\n",
       "        [6, 7, 8]])"
      ]
     },
     "execution_count": 60,
     "metadata": {},
     "output_type": "execute_result"
    }
   ],
   "source": [
    "Z1"
   ]
  },
  {
   "cell_type": "code",
   "execution_count": 61,
   "id": "2f73c011",
   "metadata": {},
   "outputs": [
    {
     "data": {
      "text/plain": [
       "tensor([3, 2, 1])"
      ]
     },
     "execution_count": 61,
     "metadata": {},
     "output_type": "execute_result"
    }
   ],
   "source": [
    "Z2"
   ]
  },
  {
   "cell_type": "code",
   "execution_count": 62,
   "id": "a9e82c8f",
   "metadata": {},
   "outputs": [
    {
     "data": {
      "text/plain": [
       "tensor([[3, 3, 3],\n",
       "        [6, 6, 6],\n",
       "        [9, 9, 9]])"
      ]
     },
     "execution_count": 62,
     "metadata": {},
     "output_type": "execute_result"
    }
   ],
   "source": [
    "Z1 + Z2"
   ]
  },
  {
   "cell_type": "code",
   "execution_count": 63,
   "id": "2b34ef2c",
   "metadata": {},
   "outputs": [],
   "source": [
    "Z1 = torch.arange(3).reshape(3,1)\n",
    "Z2 = torch.arange(3).reshape(1,3)"
   ]
  },
  {
   "cell_type": "code",
   "execution_count": 64,
   "id": "7d7e90ea",
   "metadata": {},
   "outputs": [
    {
     "data": {
      "text/plain": [
       "tensor([[0],\n",
       "        [1],\n",
       "        [2]])"
      ]
     },
     "execution_count": 64,
     "metadata": {},
     "output_type": "execute_result"
    }
   ],
   "source": [
    "Z1"
   ]
  },
  {
   "cell_type": "code",
   "execution_count": 65,
   "id": "854fa57e",
   "metadata": {},
   "outputs": [
    {
     "data": {
      "text/plain": [
       "tensor([[0, 1, 2]])"
      ]
     },
     "execution_count": 65,
     "metadata": {},
     "output_type": "execute_result"
    }
   ],
   "source": [
    "Z2"
   ]
  },
  {
   "cell_type": "code",
   "execution_count": 66,
   "id": "23b272db",
   "metadata": {},
   "outputs": [
    {
     "data": {
      "text/plain": [
       "tensor([[0, 1, 2],\n",
       "        [1, 2, 3],\n",
       "        [2, 3, 4]])"
      ]
     },
     "execution_count": 66,
     "metadata": {},
     "output_type": "execute_result"
    }
   ],
   "source": [
    "Z1 + Z2"
   ]
  },
  {
   "cell_type": "code",
   "execution_count": 76,
   "id": "af1fec7e",
   "metadata": {},
   "outputs": [],
   "source": [
    "Z1 = torch.arange(9).reshape((3, 1, 3))\n",
    "Z2 = torch.arange(3).reshape((1, 3, 1))"
   ]
  },
  {
   "cell_type": "code",
   "execution_count": 77,
   "id": "14075b4a",
   "metadata": {},
   "outputs": [
    {
     "data": {
      "text/plain": [
       "tensor([[[0, 1, 2]],\n",
       "\n",
       "        [[3, 4, 5]],\n",
       "\n",
       "        [[6, 7, 8]]])"
      ]
     },
     "execution_count": 77,
     "metadata": {},
     "output_type": "execute_result"
    }
   ],
   "source": [
    "Z1"
   ]
  },
  {
   "cell_type": "code",
   "execution_count": 78,
   "id": "7b1cd49f",
   "metadata": {},
   "outputs": [
    {
     "data": {
      "text/plain": [
       "tensor([[[0],\n",
       "         [1],\n",
       "         [2]]])"
      ]
     },
     "execution_count": 78,
     "metadata": {},
     "output_type": "execute_result"
    }
   ],
   "source": [
    "Z2"
   ]
  },
  {
   "cell_type": "code",
   "execution_count": 79,
   "id": "42aa54f6",
   "metadata": {
    "scrolled": true
   },
   "outputs": [
    {
     "data": {
      "text/plain": [
       "tensor([[[ 0,  1,  2],\n",
       "         [ 1,  2,  3],\n",
       "         [ 2,  3,  4]],\n",
       "\n",
       "        [[ 3,  4,  5],\n",
       "         [ 4,  5,  6],\n",
       "         [ 5,  6,  7]],\n",
       "\n",
       "        [[ 6,  7,  8],\n",
       "         [ 7,  8,  9],\n",
       "         [ 8,  9, 10]]])"
      ]
     },
     "execution_count": 79,
     "metadata": {},
     "output_type": "execute_result"
    }
   ],
   "source": [
    "Z1 + Z2"
   ]
  }
 ],
 "metadata": {
  "kernelspec": {
   "display_name": "D2L",
   "language": "python",
   "name": "d2l"
  },
  "language_info": {
   "codemirror_mode": {
    "name": "ipython",
    "version": 3
   },
   "file_extension": ".py",
   "mimetype": "text/x-python",
   "name": "python",
   "nbconvert_exporter": "python",
   "pygments_lexer": "ipython3",
   "version": "3.10.11"
  }
 },
 "nbformat": 4,
 "nbformat_minor": 5
}
